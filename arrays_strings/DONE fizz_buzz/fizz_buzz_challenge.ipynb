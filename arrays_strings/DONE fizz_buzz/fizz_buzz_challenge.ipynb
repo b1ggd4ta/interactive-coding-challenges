{
 "cells": [
  {
   "cell_type": "markdown",
   "metadata": {},
   "source": [
    "This notebook was prepared by [Donne Martin](https://github.com/donnemartin). Source and license info is on [GitHub](https://github.com/donnemartin/interactive-coding-challenges)."
   ]
  },
  {
   "cell_type": "markdown",
   "metadata": {},
   "source": [
    "# Challenge Notebook"
   ]
  },
  {
   "cell_type": "markdown",
   "metadata": {},
   "source": [
    "## Problem: Implement Fizz Buzz.\n",
    "\n",
    "* [Constraints](#Constraints)\n",
    "* [Test Cases](#Test-Cases)\n",
    "* [Algorithm](#Algorithm)\n",
    "* [Code](#Code)\n",
    "* [Unit Test](#Unit-Test)\n",
    "* [Solution Notebook](#Solution-Notebook)"
   ]
  },
  {
   "cell_type": "markdown",
   "metadata": {},
   "source": [
    "## Constraints\n",
    "\n",
    "* What is fizz buzz?\n",
    "    * Return the string representation of numbers from 1 to n\n",
    "        * Multiples of 3 -> 'Fizz'\n",
    "        * Multiples of 5 -> 'Buzz'\n",
    "        * Multiples of 3 and 5 -> 'FizzBuzz'\n",
    "* Can we assume the inputs are valid?\n",
    "    * No\n",
    "* Can we assume this fits memory?\n",
    "    * Yes"
   ]
  },
  {
   "cell_type": "markdown",
   "metadata": {},
   "source": [
    "## Test Cases\n",
    "\n",
    "<pre>\n",
    "* None -> Exception\n",
    "* < 1 -> Exception\n",
    "* 15 ->\n",
    "[\n",
    "    '1',\n",
    "    '2',\n",
    "    'Fizz',\n",
    "    '4',\n",
    "    'Buzz',\n",
    "    'Fizz',\n",
    "    '7',\n",
    "    '8',\n",
    "    'Fizz',\n",
    "    'Buzz',\n",
    "    '11',\n",
    "    'Fizz',\n",
    "    '13',\n",
    "    '14',\n",
    "    'FizzBuzz'\n",
    "]\n",
    "</pre>"
   ]
  },
  {
   "cell_type": "markdown",
   "metadata": {},
   "source": [
    "## Algorithm\n",
    "\n",
    "Refer to the [Solution Notebook](http://nbviewer.ipython.org/github/donnemartin/interactive-coding-challenges/blob/master/arrays_strings/fizz_buzz/fizz_buzz_solution.ipynb).  If you are stuck and need a hint, the solution notebook's algorithm discussion might be a good place to start."
   ]
  },
  {
   "cell_type": "markdown",
   "metadata": {},
   "source": [
    "## Code"
   ]
  },
  {
   "cell_type": "code",
   "execution_count": null,
   "metadata": {},
   "outputs": [],
   "source": [
    "class Solution(object):\n",
    "\n",
    "    def fizz_buzz(self, num):\n",
    "        if num is None:\n",
    "            raise TypeError\n",
    "        elif num == 0:\n",
    "            raise ValueError\n",
    "        output = []\n",
    "        for i in range(1, num + 1):\n",
    "            if i % 15 == 0:\n",
    "                output.append(\"FizzBuzz\")\n",
    "            elif i % 3 == 0:\n",
    "                output.append(\"Fizz\")\n",
    "            elif i % 5 == 0:\n",
    "                output.append(\"Buzz\")\n",
    "            else:\n",
    "                output.append(str(i))\n",
    "        return output"
   ]
  },
  {
   "cell_type": "markdown",
   "metadata": {},
   "source": [
    "## Unit Test"
   ]
  },
  {
   "cell_type": "markdown",
   "metadata": {},
   "source": [
    "**The following unit test is expected to fail until you solve the challenge.**"
   ]
  },
  {
   "cell_type": "code",
   "execution_count": 6,
   "metadata": {},
   "outputs": [
    {
     "ename": "AssertionError",
     "evalue": "Lists differ: [1, 2, 'Fizz', 4, 'Buzz', 'Fizz', 7, 8, 'F[40 chars]uzz'] != ['1', '2', 'Fizz', '4', 'Buzz', 'Fizz', '7[56 chars]uzz']\n\nFirst differing element 0:\n1\n'1'\n\n- [1,\n+ ['1',\n?  + +\n\n-  2,\n+  '2',\n?  + +\n\n   'Fizz',\n-  4,\n+  '4',\n?  + +\n\n   'Buzz',\n   'Fizz',\n-  7,\n+  '7',\n?  + +\n\n-  8,\n+  '8',\n?  + +\n\n   'Fizz',\n   'Buzz',\n-  11,\n+  '11',\n?  +  +\n\n   'Fizz',\n-  13,\n+  '13',\n?  +  +\n\n-  14,\n+  '14',\n?  +  +\n\n   'FizzBuzz']",
     "output_type": "error",
     "traceback": [
      "\u001b[31m---------------------------------------------------------------------------\u001b[39m",
      "\u001b[31mAssertionError\u001b[39m                            Traceback (most recent call last)",
      "\u001b[36mCell\u001b[39m\u001b[36m \u001b[39m\u001b[32mIn[6]\u001b[39m\u001b[32m, line 38\u001b[39m\n\u001b[32m     34\u001b[39m     test.test_fizz_buzz()\n\u001b[32m     37\u001b[39m \u001b[38;5;28;01mif\u001b[39;00m \u001b[34m__name__\u001b[39m == \u001b[33m\"\u001b[39m\u001b[33m__main__\u001b[39m\u001b[33m\"\u001b[39m:\n\u001b[32m---> \u001b[39m\u001b[32m38\u001b[39m     \u001b[43mmain\u001b[49m\u001b[43m(\u001b[49m\u001b[43m)\u001b[49m\n",
      "\u001b[36mCell\u001b[39m\u001b[36m \u001b[39m\u001b[32mIn[6]\u001b[39m\u001b[32m, line 34\u001b[39m, in \u001b[36mmain\u001b[39m\u001b[34m()\u001b[39m\n\u001b[32m     32\u001b[39m \u001b[38;5;28;01mdef\u001b[39;00m\u001b[38;5;250m \u001b[39m\u001b[34mmain\u001b[39m():\n\u001b[32m     33\u001b[39m     test = TestFizzBuzz()\n\u001b[32m---> \u001b[39m\u001b[32m34\u001b[39m     \u001b[43mtest\u001b[49m\u001b[43m.\u001b[49m\u001b[43mtest_fizz_buzz\u001b[49m\u001b[43m(\u001b[49m\u001b[43m)\u001b[49m\n",
      "\u001b[36mCell\u001b[39m\u001b[36m \u001b[39m\u001b[32mIn[6]\u001b[39m\u001b[32m, line 28\u001b[39m, in \u001b[36mTestFizzBuzz.test_fizz_buzz\u001b[39m\u001b[34m(self)\u001b[39m\n\u001b[32m     10\u001b[39m \u001b[38;5;28mself\u001b[39m.assertRaises(\u001b[38;5;167;01mValueError\u001b[39;00m, solution.fizz_buzz, \u001b[32m0\u001b[39m)\n\u001b[32m     11\u001b[39m expected = [\n\u001b[32m     12\u001b[39m     \u001b[33m\"\u001b[39m\u001b[33m1\u001b[39m\u001b[33m\"\u001b[39m,\n\u001b[32m     13\u001b[39m     \u001b[33m\"\u001b[39m\u001b[33m2\u001b[39m\u001b[33m\"\u001b[39m,\n\u001b[32m   (...)\u001b[39m\u001b[32m     26\u001b[39m     \u001b[33m\"\u001b[39m\u001b[33mFizzBuzz\u001b[39m\u001b[33m\"\u001b[39m,\n\u001b[32m     27\u001b[39m ]\n\u001b[32m---> \u001b[39m\u001b[32m28\u001b[39m \u001b[38;5;28;43mself\u001b[39;49m\u001b[43m.\u001b[49m\u001b[43massertEqual\u001b[49m\u001b[43m(\u001b[49m\u001b[43msolution\u001b[49m\u001b[43m.\u001b[49m\u001b[43mfizz_buzz\u001b[49m\u001b[43m(\u001b[49m\u001b[32;43m15\u001b[39;49m\u001b[43m)\u001b[49m\u001b[43m,\u001b[49m\u001b[43m \u001b[49m\u001b[43mexpected\u001b[49m\u001b[43m)\u001b[49m\n\u001b[32m     29\u001b[39m \u001b[38;5;28mprint\u001b[39m(\u001b[33m\"\u001b[39m\u001b[33mSuccess: test_fizz_buzz\u001b[39m\u001b[33m\"\u001b[39m)\n",
      "\u001b[36mFile \u001b[39m\u001b[32m/Library/Frameworks/Python.framework/Versions/3.13/lib/python3.13/unittest/case.py:907\u001b[39m, in \u001b[36mTestCase.assertEqual\u001b[39m\u001b[34m(self, first, second, msg)\u001b[39m\n\u001b[32m    903\u001b[39m \u001b[38;5;250m\u001b[39m\u001b[33;03m\"\"\"Fail if the two objects are unequal as determined by the '=='\u001b[39;00m\n\u001b[32m    904\u001b[39m \u001b[33;03m   operator.\u001b[39;00m\n\u001b[32m    905\u001b[39m \u001b[33;03m\"\"\"\u001b[39;00m\n\u001b[32m    906\u001b[39m assertion_func = \u001b[38;5;28mself\u001b[39m._getAssertEqualityFunc(first, second)\n\u001b[32m--> \u001b[39m\u001b[32m907\u001b[39m \u001b[43massertion_func\u001b[49m\u001b[43m(\u001b[49m\u001b[43mfirst\u001b[49m\u001b[43m,\u001b[49m\u001b[43m \u001b[49m\u001b[43msecond\u001b[49m\u001b[43m,\u001b[49m\u001b[43m \u001b[49m\u001b[43mmsg\u001b[49m\u001b[43m=\u001b[49m\u001b[43mmsg\u001b[49m\u001b[43m)\u001b[49m\n",
      "\u001b[36mFile \u001b[39m\u001b[32m/Library/Frameworks/Python.framework/Versions/3.13/lib/python3.13/unittest/case.py:1113\u001b[39m, in \u001b[36mTestCase.assertListEqual\u001b[39m\u001b[34m(self, list1, list2, msg)\u001b[39m\n\u001b[32m   1103\u001b[39m \u001b[38;5;28;01mdef\u001b[39;00m\u001b[38;5;250m \u001b[39m\u001b[34massertListEqual\u001b[39m(\u001b[38;5;28mself\u001b[39m, list1, list2, msg=\u001b[38;5;28;01mNone\u001b[39;00m):\n\u001b[32m   1104\u001b[39m \u001b[38;5;250m    \u001b[39m\u001b[33;03m\"\"\"A list-specific equality assertion.\u001b[39;00m\n\u001b[32m   1105\u001b[39m \n\u001b[32m   1106\u001b[39m \u001b[33;03m    Args:\u001b[39;00m\n\u001b[32m   (...)\u001b[39m\u001b[32m   1111\u001b[39m \n\u001b[32m   1112\u001b[39m \u001b[33;03m    \"\"\"\u001b[39;00m\n\u001b[32m-> \u001b[39m\u001b[32m1113\u001b[39m     \u001b[38;5;28;43mself\u001b[39;49m\u001b[43m.\u001b[49m\u001b[43massertSequenceEqual\u001b[49m\u001b[43m(\u001b[49m\u001b[43mlist1\u001b[49m\u001b[43m,\u001b[49m\u001b[43m \u001b[49m\u001b[43mlist2\u001b[49m\u001b[43m,\u001b[49m\u001b[43m \u001b[49m\u001b[43mmsg\u001b[49m\u001b[43m,\u001b[49m\u001b[43m \u001b[49m\u001b[43mseq_type\u001b[49m\u001b[43m=\u001b[49m\u001b[38;5;28;43mlist\u001b[39;49m\u001b[43m)\u001b[49m\n",
      "\u001b[36mFile \u001b[39m\u001b[32m/Library/Frameworks/Python.framework/Versions/3.13/lib/python3.13/unittest/case.py:1095\u001b[39m, in \u001b[36mTestCase.assertSequenceEqual\u001b[39m\u001b[34m(self, seq1, seq2, msg, seq_type)\u001b[39m\n\u001b[32m   1093\u001b[39m standardMsg = \u001b[38;5;28mself\u001b[39m._truncateMessage(standardMsg, diffMsg)\n\u001b[32m   1094\u001b[39m msg = \u001b[38;5;28mself\u001b[39m._formatMessage(msg, standardMsg)\n\u001b[32m-> \u001b[39m\u001b[32m1095\u001b[39m \u001b[38;5;28;43mself\u001b[39;49m\u001b[43m.\u001b[49m\u001b[43mfail\u001b[49m\u001b[43m(\u001b[49m\u001b[43mmsg\u001b[49m\u001b[43m)\u001b[49m\n",
      "\u001b[36mFile \u001b[39m\u001b[32m/Library/Frameworks/Python.framework/Versions/3.13/lib/python3.13/unittest/case.py:732\u001b[39m, in \u001b[36mTestCase.fail\u001b[39m\u001b[34m(self, msg)\u001b[39m\n\u001b[32m    730\u001b[39m \u001b[38;5;28;01mdef\u001b[39;00m\u001b[38;5;250m \u001b[39m\u001b[34mfail\u001b[39m(\u001b[38;5;28mself\u001b[39m, msg=\u001b[38;5;28;01mNone\u001b[39;00m):\n\u001b[32m    731\u001b[39m \u001b[38;5;250m    \u001b[39m\u001b[33;03m\"\"\"Fail immediately, with the given message.\"\"\"\u001b[39;00m\n\u001b[32m--> \u001b[39m\u001b[32m732\u001b[39m     \u001b[38;5;28;01mraise\u001b[39;00m \u001b[38;5;28mself\u001b[39m.failureException(msg)\n",
      "\u001b[31mAssertionError\u001b[39m: Lists differ: [1, 2, 'Fizz', 4, 'Buzz', 'Fizz', 7, 8, 'F[40 chars]uzz'] != ['1', '2', 'Fizz', '4', 'Buzz', 'Fizz', '7[56 chars]uzz']\n\nFirst differing element 0:\n1\n'1'\n\n- [1,\n+ ['1',\n?  + +\n\n-  2,\n+  '2',\n?  + +\n\n   'Fizz',\n-  4,\n+  '4',\n?  + +\n\n   'Buzz',\n   'Fizz',\n-  7,\n+  '7',\n?  + +\n\n-  8,\n+  '8',\n?  + +\n\n   'Fizz',\n   'Buzz',\n-  11,\n+  '11',\n?  +  +\n\n   'Fizz',\n-  13,\n+  '13',\n?  +  +\n\n-  14,\n+  '14',\n?  +  +\n\n   'FizzBuzz']"
     ]
    }
   ],
   "source": [
    "# %load test_fizz_buzz.py\n",
    "import unittest\n",
    "\n",
    "\n",
    "class TestFizzBuzz(unittest.TestCase):\n",
    "\n",
    "    def test_fizz_buzz(self):\n",
    "        solution = Solution()\n",
    "        self.assertRaises(TypeError, solution.fizz_buzz, None)\n",
    "        self.assertRaises(ValueError, solution.fizz_buzz, 0)\n",
    "        expected = [\n",
    "            \"1\",\n",
    "            \"2\",\n",
    "            \"Fizz\",\n",
    "            \"4\",\n",
    "            \"Buzz\",\n",
    "            \"Fizz\",\n",
    "            \"7\",\n",
    "            \"8\",\n",
    "            \"Fizz\",\n",
    "            \"Buzz\",\n",
    "            \"11\",\n",
    "            \"Fizz\",\n",
    "            \"13\",\n",
    "            \"14\",\n",
    "            \"FizzBuzz\",\n",
    "        ]\n",
    "        self.assertEqual(solution.fizz_buzz(15), expected)\n",
    "        print(\"Success: test_fizz_buzz\")\n",
    "\n",
    "\n",
    "def main():\n",
    "    test = TestFizzBuzz()\n",
    "    test.test_fizz_buzz()\n",
    "\n",
    "\n",
    "if __name__ == \"__main__\":\n",
    "    main()"
   ]
  },
  {
   "cell_type": "markdown",
   "metadata": {},
   "source": [
    "## Solution Notebook\n",
    "\n",
    "Review the [Solution Notebook](http://nbviewer.ipython.org/github/donnemartin/interactive-coding-challenges/blob/master/arrays_strings/fizz_buzz/fizz_buzz_solution.ipynb) for a discussion on algorithms and code solutions."
   ]
  }
 ],
 "metadata": {
  "kernelspec": {
   "display_name": "venv",
   "language": "python",
   "name": "python3"
  },
  "language_info": {
   "codemirror_mode": {
    "name": "ipython",
    "version": 3
   },
   "file_extension": ".py",
   "mimetype": "text/x-python",
   "name": "python",
   "nbconvert_exporter": "python",
   "pygments_lexer": "ipython3",
   "version": "3.13.0"
  }
 },
 "nbformat": 4,
 "nbformat_minor": 1
}

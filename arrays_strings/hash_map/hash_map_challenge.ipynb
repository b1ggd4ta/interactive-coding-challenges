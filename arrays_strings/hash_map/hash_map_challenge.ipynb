{
 "cells": [
  {
   "cell_type": "markdown",
   "metadata": {},
   "source": [
    "This notebook was prepared by [Donne Martin](http://donnemartin.com). Source and license info is on [GitHub](https://github.com/donnemartin/interactive-coding-challenges)."
   ]
  },
  {
   "cell_type": "markdown",
   "metadata": {},
   "source": [
    "# Challenge Notebook"
   ]
  },
  {
   "cell_type": "markdown",
   "metadata": {},
   "source": [
    "## Problem: Implement a hash table with set, get, and remove methods.\n",
    "\n",
    "* [Constraints](#Constraints)\n",
    "* [Test Cases](#Test-Cases)\n",
    "* [Algorithm](#Algorithm)\n",
    "* [Code](#Code)\n",
    "* [Unit Test](#Unit-Test)\n",
    "* [Solution Notebook](#Solution-Notebook)"
   ]
  },
  {
   "cell_type": "markdown",
   "metadata": {},
   "source": [
    "## Constraints\n",
    "\n",
    "* For simplicity, are the keys integers only?\n",
    "    * Yes\n",
    "* For collision resolution, can we use chaining?\n",
    "    * Yes\n",
    "* Do we have to worry about load factors?\n",
    "    * No\n",
    "* Do we have to validate inputs?\n",
    "    * No\n",
    "* Can we assume this fits memory?\n",
    "    * Yes"
   ]
  },
  {
   "cell_type": "markdown",
   "metadata": {},
   "source": [
    "## Test Cases\n",
    "\n",
    "* `get` no matching key -> KeyError exception\n",
    "* `get` matching key -> value\n",
    "* `set` no matching key -> new key, value\n",
    "* `set` matching key -> update value\n",
    "* `remove` no matching key -> KeyError exception\n",
    "* `remove` matching key -> remove key, value"
   ]
  },
  {
   "cell_type": "markdown",
   "metadata": {},
   "source": [
    "## Algorithm\n",
    "\n",
    "Refer to the [Solution Notebook](http://nbviewer.ipython.org/github/donnemartin/interactive-coding-challenges/blob/master/arrays_strings/hash_map/hash_map_solution.ipynb).  If you are stuck and need a hint, the solution notebook's algorithm discussion might be a good place to start."
   ]
  },
  {
   "cell_type": "markdown",
   "metadata": {},
   "source": [
    "## Code"
   ]
  },
  {
   "cell_type": "code",
   "execution_count": null,
   "metadata": {},
   "outputs": [],
   "source": [
    "class Item(object):\n",
    "\n",
    "    def __init__(self, key, value):\n",
    "        self.key = key\n",
    "        self.value = value\n",
    "\n",
    "\n",
    "class HashTable(object):\n",
    "    \"\"\"\n",
    "    Keys are integers; so we could use the key as the index in the list in which we store the data.\n",
    "    However, this will result in wasted memory, especially with large gaps between keys.\n",
    "\n",
    "    How can we create a hashing function that is bounded by size?\n",
    "    use modulo of key / size, i.e `key % size%`\n",
    "\n",
    "    Example of lists of instances of `Item`\n",
    "\n",
    "    [\n",
    "        [Item],\n",
    "        [Item],\n",
    "        [Item, Item],\n",
    "        [Item, Item, Item],\n",
    "        [Item]\n",
    "    ]\n",
    "    \"\"\"\n",
    "\n",
    "    def __init__(self, size):\n",
    "        self.size = size\n",
    "        self.hash_table = [[] for i in range(size)]\n",
    "\n",
    "    def _hash_function(self, key):\n",
    "        \"\"\"Key collisions result in additional items within the list at each index of `hash_map`.\"\"\"\n",
    "        return key % self.size\n",
    "\n",
    "    def set(self, key, value):\n",
    "        index = self._hash_function(key)\n",
    "        for item in self.hash_table:\n",
    "            if item.key == key:\n",
    "                self.hash_table[index].append(Item(key, value))\n",
    "\n",
    "    def get(self, key):\n",
    "        index = self._hash_function(key)\n",
    "        for item in self.hash_table[index]:\n",
    "            if item.key == key:\n",
    "                return item.value\n",
    "        raise KeyError(\"Invalid key: {}\".format(key))\n",
    "\n",
    "    def remove(self, key):\n",
    "        index = self._hash_function(key)\n",
    "        for i in range(len(self.hash_table[index[]])):\n",
    "                \n",
    "            for item in self.hash_table[index]:\n",
    "                if item.key == key:\n",
    "                    # TODO: FINISH this remove the key value pair\n",
    "                    self.hash_table.remove()"
   ]
  },
  {
   "cell_type": "code",
   "execution_count": 3,
   "metadata": {},
   "outputs": [
    {
     "data": {
      "text/plain": [
       "[0, 2, 4, 6, 8, 0, 2, 4, 6, 8]"
      ]
     },
     "execution_count": 3,
     "metadata": {},
     "output_type": "execute_result"
    }
   ],
   "source": [
    "[i % 10 for i in range(0, 20, 2)]"
   ]
  },
  {
   "cell_type": "markdown",
   "metadata": {},
   "source": [
    "## Unit Test"
   ]
  },
  {
   "cell_type": "markdown",
   "metadata": {},
   "source": [
    "\n",
    "\n",
    "**The following unit test is expected to fail until you solve the challenge.**"
   ]
  },
  {
   "cell_type": "code",
   "execution_count": null,
   "metadata": {},
   "outputs": [],
   "source": [
    "# %load test_hash_map.py\n",
    "import unittest\n",
    "\n",
    "\n",
    "class TestHashMap(unittest.TestCase):\n",
    "\n",
    "    # TODO: It would be better if we had unit tests for each\n",
    "    # method in addition to the following end-to-end test\n",
    "    def test_end_to_end(self):\n",
    "        hash_table = HashTable(10)\n",
    "\n",
    "        print(\"Test: get on an empty hash table index\")\n",
    "        self.assertRaises(KeyError, hash_table.get, 0)\n",
    "\n",
    "        print(\"Test: set on an empty hash table index\")\n",
    "        hash_table.set(0, \"foo\")\n",
    "        self.assertEqual(hash_table.get(0), \"foo\")\n",
    "        hash_table.set(1, \"bar\")\n",
    "        self.assertEqual(hash_table.get(1), \"bar\")\n",
    "\n",
    "        print(\"Test: set on a non empty hash table index\")\n",
    "        hash_table.set(10, \"foo2\")\n",
    "        self.assertEqual(hash_table.get(0), \"foo\")\n",
    "        self.assertEqual(hash_table.get(10), \"foo2\")\n",
    "\n",
    "        print(\"Test: set on a key that already exists\")\n",
    "        hash_table.set(10, \"foo3\")\n",
    "        self.assertEqual(hash_table.get(0), \"foo\")\n",
    "        self.assertEqual(hash_table.get(10), \"foo3\")\n",
    "\n",
    "        print(\"Test: remove on a key that already exists\")\n",
    "        hash_table.remove(10)\n",
    "        self.assertEqual(hash_table.get(0), \"foo\")\n",
    "        self.assertRaises(KeyError, hash_table.get, 10)\n",
    "\n",
    "        print(\"Test: remove on a key that doesn't exist\")\n",
    "        self.assertRaises(KeyError, hash_table.remove, -1)\n",
    "\n",
    "        print(\"Success: test_end_to_end\")\n",
    "\n",
    "\n",
    "def main():\n",
    "    test = TestHashMap()\n",
    "    test.test_end_to_end()\n",
    "\n",
    "\n",
    "if __name__ == \"__main__\":\n",
    "    main()"
   ]
  },
  {
   "cell_type": "markdown",
   "metadata": {},
   "source": [
    "## Solution Notebook\n",
    "\n",
    "Review the [Solution Notebook](http://nbviewer.ipython.org/github/donnemartin/interactive-coding-challenges/blob/master/arrays_strings/hash_map/hash_map_solution.ipynb) for a discussion on algorithms and code solutions."
   ]
  }
 ],
 "metadata": {
  "kernelspec": {
   "display_name": "venv",
   "language": "python",
   "name": "python3"
  },
  "language_info": {
   "codemirror_mode": {
    "name": "ipython",
    "version": 3
   },
   "file_extension": ".py",
   "mimetype": "text/x-python",
   "name": "python",
   "nbconvert_exporter": "python",
   "pygments_lexer": "ipython3",
   "version": "3.13.0"
  }
 },
 "nbformat": 4,
 "nbformat_minor": 1
}

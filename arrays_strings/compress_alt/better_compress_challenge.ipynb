{
 "cells": [
  {
   "cell_type": "markdown",
   "metadata": {
    "editable": true,
    "slideshow": {
     "slide_type": ""
    },
    "tags": []
   },
   "source": [
    "This notebook was prepared by [hashhar](https://github.com/hashhar). Source and license info is on [GitHub](https://github.com/donnemartin/interactive-coding-challenges)."
   ]
  },
  {
   "cell_type": "markdown",
   "metadata": {},
   "source": [
    "# Challenge Notebook"
   ]
  },
  {
   "cell_type": "markdown",
   "metadata": {},
   "source": [
    "## Problem: Compress a string such that 'AAABCCDDDD' becomes 'A3BCCD4'.  Only compress the string if it saves space.\n",
    "\n",
    "* [Constraints](#Constraints)\n",
    "* [Test Cases](#Test-Cases)\n",
    "* [Algorithm](#Algorithm)\n",
    "* [Code](#Code)\n",
    "* [Unit Test](#Unit-Test)\n",
    "* [Solution Notebook](#Solution-Notebook)"
   ]
  },
  {
   "cell_type": "markdown",
   "metadata": {},
   "source": [
    "## Constraints\n",
    "\n",
    "* Can we assume the string is ASCII?\n",
    "    * Yes\n",
    "    * Note: Unicode strings could require special handling depending on your language\n",
    "* Is this case sensitive?\n",
    "    * Yes\n",
    "* Can we use additional data structures?  \n",
    "    * Yes\n",
    "* Can we assume this fits in memory?\n",
    "    * Yes"
   ]
  },
  {
   "cell_type": "markdown",
   "metadata": {},
   "source": [
    "## Test Cases\n",
    "\n",
    "* None -> None\n",
    "* '' -> ''\n",
    "* 'AABBCC' -> 'AABBCC'\n",
    "* 'AAABCCDDDD' -> 'A3BCCD4'"
   ]
  },
  {
   "cell_type": "markdown",
   "metadata": {},
   "source": [
    "## Algorithm\n",
    "\n",
    "Refer to the [Solution Notebook](http://nbviewer.ipython.org/github/donnemartin/interactive-coding-challenges/blob/master/arrays_strings/compress_alt/better_compress_solution.ipynb).  If you are stuck and need a hint, the solution notebook's algorithm discussion might be a good place to start."
   ]
  },
  {
   "cell_type": "markdown",
   "metadata": {},
   "source": [
    "## Code"
   ]
  },
  {
   "cell_type": "code",
   "execution_count": 32,
   "metadata": {},
   "outputs": [],
   "source": [
    "def compress_string(string):\n",
    "    \"\"\"\n",
    "    Iterate through each char in the string, keeping count of the adjacent\n",
    "    occurrences of each letter. If the number of occurrences > 1, write the \n",
    "    letter + count to the output array. Then join the output array into a string. \n",
    "    \"\"\"\n",
    "\n",
    "    if string is None or len(string) == 0:\n",
    "        return string\n",
    "\n",
    "    compressed_string = []\n",
    "    current_char = string[0]\n",
    "    current_count = 1\n",
    "    \n",
    "    for char in string[1:]:\n",
    "        print(f'current char: {current_char}')\n",
    "        print(char)\n",
    "        if char == current_char:\n",
    "            current_count += 1\n",
    "        else:\n",
    "            print('new char!')\n",
    "            compressed_string.append(current_char)\n",
    "            if current_count > 1:\n",
    "                compressed_string.append(str(current_count))\n",
    "            current_char = char\n",
    "            current_count = 1\n",
    "    compressed_string.append(current_char)\n",
    "    if current_count > 1:\n",
    "        compressed_string.append(str(current_count))\n",
    "    print(compressed_string)\n",
    "    compressed_string = ''.join(compressed_string)\n",
    "    return compressed_string if len(compressed_string) <= len(string) else string\n"
   ]
  },
  {
   "cell_type": "markdown",
   "metadata": {},
   "source": [
    "## Unit Test"
   ]
  },
  {
   "cell_type": "markdown",
   "metadata": {},
   "source": [
    "\n",
    "\n",
    "**The following unit test is expected to fail until you solve the challenge.**"
   ]
  },
  {
   "cell_type": "code",
   "execution_count": 33,
   "metadata": {},
   "outputs": [
    {
     "name": "stdout",
     "output_type": "stream",
     "text": [
      "current char: A\n",
      "A\n",
      "current char: A\n",
      "B\n",
      "new char!\n",
      "current char: B\n",
      "B\n",
      "current char: B\n",
      "C\n",
      "new char!\n",
      "current char: C\n",
      "C\n",
      "['A', '2', 'B', '2', 'C', '2']\n",
      "current char: A\n",
      "A\n",
      "current char: A\n",
      "A\n",
      "current char: A\n",
      "B\n",
      "new char!\n",
      "current char: B\n",
      "C\n",
      "new char!\n",
      "current char: C\n",
      "C\n",
      "current char: C\n",
      "D\n",
      "new char!\n",
      "current char: D\n",
      "D\n",
      "current char: D\n",
      "D\n",
      "current char: D\n",
      "D\n",
      "['A', '3', 'B', 'C', '2', 'D', '4']\n"
     ]
    },
    {
     "ename": "AssertionError",
     "evalue": "'A3BC2D4' != 'A3BCCD4'\n- A3BC2D4\n?     ^\n+ A3BCCD4\n?     ^\n",
     "output_type": "error",
     "traceback": [
      "\u001b[31m---------------------------------------------------------------------------\u001b[39m",
      "\u001b[31mAssertionError\u001b[39m                            Traceback (most recent call last)",
      "\u001b[36mCell\u001b[39m\u001b[36m \u001b[39m\u001b[32mIn[33]\u001b[39m\u001b[32m, line 25\u001b[39m\n\u001b[32m     21\u001b[39m     test.test_compress(compress_string)\n\u001b[32m     24\u001b[39m \u001b[38;5;28;01mif\u001b[39;00m \u001b[34m__name__\u001b[39m == \u001b[33m'\u001b[39m\u001b[33m__main__\u001b[39m\u001b[33m'\u001b[39m:\n\u001b[32m---> \u001b[39m\u001b[32m25\u001b[39m     \u001b[43mmain\u001b[49m\u001b[43m(\u001b[49m\u001b[43m)\u001b[49m\n",
      "\u001b[36mCell\u001b[39m\u001b[36m \u001b[39m\u001b[32mIn[33]\u001b[39m\u001b[32m, line 21\u001b[39m, in \u001b[36mmain\u001b[39m\u001b[34m()\u001b[39m\n\u001b[32m     19\u001b[39m \u001b[38;5;28;01mdef\u001b[39;00m\u001b[38;5;250m \u001b[39m\u001b[34mmain\u001b[39m():\n\u001b[32m     20\u001b[39m     test = TestCompress()\n\u001b[32m---> \u001b[39m\u001b[32m21\u001b[39m     \u001b[43mtest\u001b[49m\u001b[43m.\u001b[49m\u001b[43mtest_compress\u001b[49m\u001b[43m(\u001b[49m\u001b[43mcompress_string\u001b[49m\u001b[43m)\u001b[49m\n",
      "\u001b[36mCell\u001b[39m\u001b[36m \u001b[39m\u001b[32mIn[33]\u001b[39m\u001b[32m, line 11\u001b[39m, in \u001b[36mTestCompress.test_compress\u001b[39m\u001b[34m(self, func)\u001b[39m\n\u001b[32m      9\u001b[39m \u001b[38;5;28mself\u001b[39m.assertEqual(func(\u001b[33m'\u001b[39m\u001b[33m'\u001b[39m), \u001b[33m'\u001b[39m\u001b[33m'\u001b[39m)\n\u001b[32m     10\u001b[39m \u001b[38;5;28mself\u001b[39m.assertEqual(func(\u001b[33m'\u001b[39m\u001b[33mAABBCC\u001b[39m\u001b[33m'\u001b[39m), \u001b[33m'\u001b[39m\u001b[33mAABBCC\u001b[39m\u001b[33m'\u001b[39m)\n\u001b[32m---> \u001b[39m\u001b[32m11\u001b[39m \u001b[38;5;28;43mself\u001b[39;49m\u001b[43m.\u001b[49m\u001b[43massertEqual\u001b[49m\u001b[43m(\u001b[49m\u001b[43mfunc\u001b[49m\u001b[43m(\u001b[49m\u001b[33;43m'\u001b[39;49m\u001b[33;43mAAABCCDDDD\u001b[39;49m\u001b[33;43m'\u001b[39;49m\u001b[43m)\u001b[49m\u001b[43m,\u001b[49m\u001b[43m \u001b[49m\u001b[33;43m'\u001b[39;49m\u001b[33;43mA3BCCD4\u001b[39;49m\u001b[33;43m'\u001b[39;49m\u001b[43m)\u001b[49m\n\u001b[32m     12\u001b[39m \u001b[38;5;28mself\u001b[39m.assertEqual(\n\u001b[32m     13\u001b[39m     func(\u001b[33m'\u001b[39m\u001b[33maaBCCEFFFFKKMMMMMMP taaammanlaarrrr seeeeeeeeek tooo\u001b[39m\u001b[33m'\u001b[39m),\n\u001b[32m     14\u001b[39m     \u001b[33m'\u001b[39m\u001b[33maaBCCEF4KKM6P ta3mmanlaar4 se9k to3\u001b[39m\u001b[33m'\u001b[39m,\n\u001b[32m     15\u001b[39m )\n\u001b[32m     16\u001b[39m \u001b[38;5;28mprint\u001b[39m(\u001b[33m'\u001b[39m\u001b[33mSuccess: test_compress\u001b[39m\u001b[33m'\u001b[39m)\n",
      "\u001b[36mFile \u001b[39m\u001b[32m/opt/homebrew/Cellar/python@3.13/3.13.5/Frameworks/Python.framework/Versions/3.13/lib/python3.13/unittest/case.py:907\u001b[39m, in \u001b[36mTestCase.assertEqual\u001b[39m\u001b[34m(self, first, second, msg)\u001b[39m\n\u001b[32m    903\u001b[39m \u001b[38;5;250m\u001b[39m\u001b[33;03m\"\"\"Fail if the two objects are unequal as determined by the '=='\u001b[39;00m\n\u001b[32m    904\u001b[39m \u001b[33;03m   operator.\u001b[39;00m\n\u001b[32m    905\u001b[39m \u001b[33;03m\"\"\"\u001b[39;00m\n\u001b[32m    906\u001b[39m assertion_func = \u001b[38;5;28mself\u001b[39m._getAssertEqualityFunc(first, second)\n\u001b[32m--> \u001b[39m\u001b[32m907\u001b[39m \u001b[43massertion_func\u001b[49m\u001b[43m(\u001b[49m\u001b[43mfirst\u001b[49m\u001b[43m,\u001b[49m\u001b[43m \u001b[49m\u001b[43msecond\u001b[49m\u001b[43m,\u001b[49m\u001b[43m \u001b[49m\u001b[43mmsg\u001b[49m\u001b[43m=\u001b[49m\u001b[43mmsg\u001b[49m\u001b[43m)\u001b[49m\n",
      "\u001b[36mFile \u001b[39m\u001b[32m/opt/homebrew/Cellar/python@3.13/3.13.5/Frameworks/Python.framework/Versions/3.13/lib/python3.13/unittest/case.py:1273\u001b[39m, in \u001b[36mTestCase.assertMultiLineEqual\u001b[39m\u001b[34m(self, first, second, msg)\u001b[39m\n\u001b[32m   1271\u001b[39m diff = \u001b[33m'\u001b[39m\u001b[38;5;130;01m\\n\u001b[39;00m\u001b[33m'\u001b[39m + \u001b[33m'\u001b[39m\u001b[33m'\u001b[39m.join(difflib.ndiff(firstlines, secondlines))\n\u001b[32m   1272\u001b[39m standardMsg = \u001b[38;5;28mself\u001b[39m._truncateMessage(standardMsg, diff)\n\u001b[32m-> \u001b[39m\u001b[32m1273\u001b[39m \u001b[38;5;28;43mself\u001b[39;49m\u001b[43m.\u001b[49m\u001b[43mfail\u001b[49m\u001b[43m(\u001b[49m\u001b[38;5;28;43mself\u001b[39;49m\u001b[43m.\u001b[49m\u001b[43m_formatMessage\u001b[49m\u001b[43m(\u001b[49m\u001b[43mmsg\u001b[49m\u001b[43m,\u001b[49m\u001b[43m \u001b[49m\u001b[43mstandardMsg\u001b[49m\u001b[43m)\u001b[49m\u001b[43m)\u001b[49m\n",
      "\u001b[36mFile \u001b[39m\u001b[32m/opt/homebrew/Cellar/python@3.13/3.13.5/Frameworks/Python.framework/Versions/3.13/lib/python3.13/unittest/case.py:732\u001b[39m, in \u001b[36mTestCase.fail\u001b[39m\u001b[34m(self, msg)\u001b[39m\n\u001b[32m    730\u001b[39m \u001b[38;5;28;01mdef\u001b[39;00m\u001b[38;5;250m \u001b[39m\u001b[34mfail\u001b[39m(\u001b[38;5;28mself\u001b[39m, msg=\u001b[38;5;28;01mNone\u001b[39;00m):\n\u001b[32m    731\u001b[39m \u001b[38;5;250m    \u001b[39m\u001b[33;03m\"\"\"Fail immediately, with the given message.\"\"\"\u001b[39;00m\n\u001b[32m--> \u001b[39m\u001b[32m732\u001b[39m     \u001b[38;5;28;01mraise\u001b[39;00m \u001b[38;5;28mself\u001b[39m.failureException(msg)\n",
      "\u001b[31mAssertionError\u001b[39m: 'A3BC2D4' != 'A3BCCD4'\n- A3BC2D4\n?     ^\n+ A3BCCD4\n?     ^\n"
     ]
    }
   ],
   "source": [
    "# %load test_compress.py\n",
    "import unittest\n",
    "\n",
    "\n",
    "class TestCompress(unittest.TestCase):\n",
    "\n",
    "    def test_compress(self, func):\n",
    "        self.assertEqual(func(None), None)\n",
    "        self.assertEqual(func(''), '')\n",
    "        self.assertEqual(func('AABBCC'), 'AABBCC')\n",
    "        self.assertEqual(func('AAABCCDDDD'), 'A3BCCD4')\n",
    "        self.assertEqual(\n",
    "            func('aaBCCEFFFFKKMMMMMMP taaammanlaarrrr seeeeeeeeek tooo'),\n",
    "            'aaBCCEF4KKM6P ta3mmanlaar4 se9k to3',\n",
    "        )\n",
    "        print('Success: test_compress')\n",
    "\n",
    "\n",
    "def main():\n",
    "    test = TestCompress()\n",
    "    test.test_compress(compress_string)\n",
    "\n",
    "\n",
    "if __name__ == '__main__':\n",
    "    main()"
   ]
  },
  {
   "cell_type": "markdown",
   "metadata": {},
   "source": [
    "## SB says: Bollocks!\n",
    "\n",
    "This behaviour is not specified in the requirements!"
   ]
  },
  {
   "cell_type": "markdown",
   "metadata": {},
   "source": [
    "## Solution Notebook\n",
    "\n",
    "Review the [Solution Notebook](http://nbviewer.ipython.org/github/donnemartin/interactive-coding-challenges/blob/master/arrays_strings/compress_alt/better_compress_solution.ipynb) for a discussion on algorithms and code solutions."
   ]
  },
  {
   "cell_type": "code",
   "execution_count": 22,
   "metadata": {},
   "outputs": [
    {
     "data": {
      "text/plain": [
       "'A'"
      ]
     },
     "execution_count": 22,
     "metadata": {},
     "output_type": "execute_result"
    }
   ],
   "source": [
    "test_string = 'AABBCC'\n",
    "test_string[0]"
   ]
  },
  {
   "cell_type": "code",
   "execution_count": null,
   "metadata": {},
   "outputs": [],
   "source": []
  }
 ],
 "metadata": {
  "kernelspec": {
   "display_name": "Python 3 (ipykernel)",
   "language": "python",
   "name": "python3"
  },
  "language_info": {
   "codemirror_mode": {
    "name": "ipython",
    "version": 3
   },
   "file_extension": ".py",
   "mimetype": "text/x-python",
   "name": "python",
   "nbconvert_exporter": "python",
   "pygments_lexer": "ipython3",
   "version": "3.13.5"
  }
 },
 "nbformat": 4,
 "nbformat_minor": 4
}
